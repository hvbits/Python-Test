{
 "cells": [
  {
   "cell_type": "markdown",
   "id": "d242b3e0",
   "metadata": {},
   "source": [
    "# Accept string input from user and then print the following with the user entered string - length of string - repeat the string 5 times - first and last characters of the string - first and last three characters of string - string backwards - string with last character removed"
   ]
  },
  {
   "cell_type": "code",
   "execution_count": 54,
   "id": "e5aa567a",
   "metadata": {},
   "outputs": [
    {
     "name": "stdout",
     "output_type": "stream",
     "text": [
      "Enter the string:india\n",
      "india\n",
      "5\n",
      "india india india india india \n",
      "i a\n",
      "ind dia\n",
      "aidni\n",
      "indi\n"
     ]
    }
   ],
   "source": [
    "mystr=input('Enter the string:')\n",
    "print(mystr)                             #string\n",
    "print(len(mystr))                        #string length\n",
    "print((mystr + \" \") * 5)                 #repeat string\n",
    "print(mystr[:1] + \" \" + mystr[-1])       #first and last\n",
    "print(mystr[:3] + \" \" + mystr[-3:])      #first 3 and last 3 \n",
    "print(mystr[::-1])                       #reverse  \n",
    "print(mystr[:len(mystr)-1])              #all but last"
   ]
  },
  {
   "cell_type": "markdown",
   "id": "de64b9a6",
   "metadata": {},
   "source": [
    "# Ask user to input two strings - first string is statement in which the second string needs to be looked upon. Then using the string methods determine whether second string is present in first string or not. Inform the user about the result "
   ]
  },
  {
   "cell_type": "code",
   "execution_count": 36,
   "id": "59058e4b",
   "metadata": {},
   "outputs": [
    {
     "name": "stdout",
     "output_type": "stream",
     "text": [
      "Enter the statement : this is my name\n",
      "Enter the lookup string : harshit\n",
      "string not present\n"
     ]
    }
   ],
   "source": [
    "stmt=input('Enter the statement : ')\n",
    "lkupstr=input('Enter the lookup string : ')\n",
    "if lkupstr in stmt:\n",
    "    print('string present')\n",
    "else:\n",
    "    print('string not present')"
   ]
  },
  {
   "cell_type": "markdown",
   "id": "30bf2128",
   "metadata": {},
   "source": [
    "# Ask the user to input a string , then output the same string in lowercase, uppercase and reverse manner."
   ]
  },
  {
   "cell_type": "code",
   "execution_count": 48,
   "id": "df522c3a",
   "metadata": {},
   "outputs": [
    {
     "name": "stdout",
     "output_type": "stream",
     "text": [
      "this is my name\n",
      "THIS IS MY NAME\n",
      "EMAN YM SI SIHT\n"
     ]
    }
   ],
   "source": [
    "print(stmt.lower())\n",
    "print(stmt.upper())\n",
    "print(stmt[::-1].upper())"
   ]
  },
  {
   "cell_type": "markdown",
   "id": "cd7c49de",
   "metadata": {},
   "source": [
    "# Write a code snippet thta asks a user for their name and print the name in following pattern B Bi Bil Bill"
   ]
  },
  {
   "cell_type": "code",
   "execution_count": 53,
   "id": "5095a69e",
   "metadata": {
    "scrolled": true
   },
   "outputs": [
    {
     "name": "stdout",
     "output_type": "stream",
     "text": [
      "h\n",
      "ha\n",
      "har\n",
      "hars\n",
      "harsh\n",
      "harshi\n",
      "harshit\n"
     ]
    }
   ],
   "source": [
    "a=''\n",
    "for item in lkupstr:\n",
    "    print(a + item)\n",
    "    a = a + item"
   ]
  },
  {
   "cell_type": "markdown",
   "id": "fbbb989b",
   "metadata": {},
   "source": [
    "# Accept 5 string values from user and store them as part of tuple. Print the elements of tuple with their indices."
   ]
  },
  {
   "cell_type": "code",
   "execution_count": 72,
   "id": "06fc955c",
   "metadata": {},
   "outputs": [
    {
     "name": "stdout",
     "output_type": "stream",
     "text": [
      "0 1\n",
      "1 a\n",
      "2 3.1\n",
      "3 4\n",
      "4 5\n"
     ]
    }
   ],
   "source": [
    "mytup = (1,'a',3.1,4,5)\n",
    "for i in range(len(mytup)):\n",
    "    print(i,mytup[i])"
   ]
  },
  {
   "cell_type": "markdown",
   "id": "290caa55",
   "metadata": {},
   "source": [
    "# Ask user 5 times to enter a team name and how many times the team own and how many they lost. Store the information in a dictionary where the keys are team names and values are lists of form [wins, lossess]\n",
    "(a) Using this dictionary, allow the user to enter a team name and print out the teams winning percentage.\n",
    "(b) Using this dictionary, create a list whose entries are the number of wins of each team."
   ]
  },
  {
   "cell_type": "code",
   "execution_count": null,
   "id": "b1e9fcb6",
   "metadata": {},
   "outputs": [],
   "source": []
  },
  {
   "cell_type": "code",
   "execution_count": null,
   "id": "710b218f",
   "metadata": {},
   "outputs": [],
   "source": []
  },
  {
   "cell_type": "code",
   "execution_count": null,
   "id": "cadf40e1",
   "metadata": {},
   "outputs": [],
   "source": []
  }
 ],
 "metadata": {
  "kernelspec": {
   "display_name": "Python 3 (ipykernel)",
   "language": "python",
   "name": "python3"
  },
  "language_info": {
   "codemirror_mode": {
    "name": "ipython",
    "version": 3
   },
   "file_extension": ".py",
   "mimetype": "text/x-python",
   "name": "python",
   "nbconvert_exporter": "python",
   "pygments_lexer": "ipython3",
   "version": "3.8.5"
  }
 },
 "nbformat": 4,
 "nbformat_minor": 5
}
